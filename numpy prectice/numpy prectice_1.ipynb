{
 "cells": [
  {
   "cell_type": "code",
   "execution_count": 1,
   "id": "2cea9e48",
   "metadata": {},
   "outputs": [],
   "source": [
    "import numpy as np"
   ]
  },
  {
   "cell_type": "code",
   "execution_count": 2,
   "id": "61edbff0",
   "metadata": {},
   "outputs": [],
   "source": [
    "##create 1d array"
   ]
  },
  {
   "cell_type": "code",
   "execution_count": 3,
   "id": "5f7785ba",
   "metadata": {},
   "outputs": [
    {
     "name": "stdout",
     "output_type": "stream",
     "text": [
      "[1 2 3]\n"
     ]
    }
   ],
   "source": [
    "d1_array=np.array([1,2,3])\n",
    "print(d1_array)"
   ]
  },
  {
   "cell_type": "code",
   "execution_count": 4,
   "id": "aca35ab4",
   "metadata": {},
   "outputs": [],
   "source": [
    "##create 2d array"
   ]
  },
  {
   "cell_type": "code",
   "execution_count": 5,
   "id": "2468c1a7",
   "metadata": {},
   "outputs": [
    {
     "name": "stdout",
     "output_type": "stream",
     "text": [
      "[[1 2 3]\n",
      " [4 5 6]\n",
      " [7 8 9]]\n"
     ]
    }
   ],
   "source": [
    "d2_array=np.array([[1,2,3],[4,5,6],[7,8,9]])\n",
    "print(d2_array)"
   ]
  },
  {
   "cell_type": "code",
   "execution_count": 6,
   "id": "eca06056",
   "metadata": {},
   "outputs": [
    {
     "data": {
      "text/plain": [
       "numpy.ndarray"
      ]
     },
     "execution_count": 6,
     "metadata": {},
     "output_type": "execute_result"
    }
   ],
   "source": [
    "type(d1_array)"
   ]
  },
  {
   "cell_type": "code",
   "execution_count": 7,
   "id": "465f6896",
   "metadata": {},
   "outputs": [
    {
     "data": {
      "text/plain": [
       "dtype('int32')"
      ]
     },
     "execution_count": 7,
     "metadata": {},
     "output_type": "execute_result"
    }
   ],
   "source": [
    "d1_array.dtype"
   ]
  },
  {
   "cell_type": "code",
   "execution_count": 8,
   "id": "3885f177",
   "metadata": {},
   "outputs": [
    {
     "data": {
      "text/plain": [
       "1"
      ]
     },
     "execution_count": 8,
     "metadata": {},
     "output_type": "execute_result"
    }
   ],
   "source": [
    "d1_array.ndim"
   ]
  },
  {
   "cell_type": "code",
   "execution_count": 9,
   "id": "70349a4d",
   "metadata": {},
   "outputs": [
    {
     "data": {
      "text/plain": [
       "2"
      ]
     },
     "execution_count": 9,
     "metadata": {},
     "output_type": "execute_result"
    }
   ],
   "source": [
    "d2_array.ndim"
   ]
  },
  {
   "cell_type": "code",
   "execution_count": 10,
   "id": "525e8af8",
   "metadata": {},
   "outputs": [
    {
     "data": {
      "text/plain": [
       "3"
      ]
     },
     "execution_count": 10,
     "metadata": {},
     "output_type": "execute_result"
    }
   ],
   "source": [
    "d1_array.size"
   ]
  },
  {
   "cell_type": "code",
   "execution_count": 11,
   "id": "225a6f5a",
   "metadata": {},
   "outputs": [
    {
     "data": {
      "text/plain": [
       "9"
      ]
     },
     "execution_count": 11,
     "metadata": {},
     "output_type": "execute_result"
    }
   ],
   "source": [
    "d2_array.size"
   ]
  },
  {
   "cell_type": "code",
   "execution_count": 12,
   "id": "bc1beb55",
   "metadata": {},
   "outputs": [
    {
     "data": {
      "text/plain": [
       "(3,)"
      ]
     },
     "execution_count": 12,
     "metadata": {},
     "output_type": "execute_result"
    }
   ],
   "source": [
    "d1_array.shape"
   ]
  },
  {
   "cell_type": "code",
   "execution_count": 13,
   "id": "141db8db",
   "metadata": {},
   "outputs": [
    {
     "data": {
      "text/plain": [
       "(3, 3)"
      ]
     },
     "execution_count": 13,
     "metadata": {},
     "output_type": "execute_result"
    }
   ],
   "source": [
    "d2_array.shape"
   ]
  },
  {
   "cell_type": "code",
   "execution_count": 14,
   "id": "11c0ab03",
   "metadata": {},
   "outputs": [
    {
     "name": "stdout",
     "output_type": "stream",
     "text": [
      "[[1 1 1]\n",
      " [1 1 1]\n",
      " [1 1 1]]\n"
     ]
    }
   ],
   "source": [
    "one=np.ones((3,3),dtype=int)\n",
    "print(one)"
   ]
  },
  {
   "cell_type": "code",
   "execution_count": 15,
   "id": "bcd61ca6",
   "metadata": {},
   "outputs": [
    {
     "name": "stdout",
     "output_type": "stream",
     "text": [
      "[[0 0 0]\n",
      " [0 0 0]\n",
      " [0 0 0]]\n"
     ]
    }
   ],
   "source": [
    "one=np.zeros((3,3),dtype=int)\n",
    "print(one)"
   ]
  },
  {
   "cell_type": "code",
   "execution_count": 16,
   "id": "b83fa78c",
   "metadata": {},
   "outputs": [
    {
     "data": {
      "text/plain": [
       "array([[1, 4, 7],\n",
       "       [2, 5, 8],\n",
       "       [3, 6, 9]])"
      ]
     },
     "execution_count": 16,
     "metadata": {},
     "output_type": "execute_result"
    }
   ],
   "source": [
    "d2_array.T"
   ]
  },
  {
   "cell_type": "code",
   "execution_count": 22,
   "id": "ad2043b2",
   "metadata": {},
   "outputs": [],
   "source": [
    "arr_reshape = np.reshape(d2_array, (3,3))"
   ]
  },
  {
   "cell_type": "code",
   "execution_count": 24,
   "id": "bf9d14db",
   "metadata": {},
   "outputs": [
    {
     "name": "stdout",
     "output_type": "stream",
     "text": [
      "[['' '' '']\n",
      " ['' '' '']]\n"
     ]
    }
   ],
   "source": [
    "empty_arr=np.empty((2,3),dtype=str)\n",
    "print(empty_arr)"
   ]
  },
  {
   "cell_type": "code",
   "execution_count": null,
   "id": "dce9a858",
   "metadata": {},
   "outputs": [],
   "source": []
  }
 ],
 "metadata": {
  "kernelspec": {
   "display_name": "Python 3 (ipykernel)",
   "language": "python",
   "name": "python3"
  },
  "language_info": {
   "codemirror_mode": {
    "name": "ipython",
    "version": 3
   },
   "file_extension": ".py",
   "mimetype": "text/x-python",
   "name": "python",
   "nbconvert_exporter": "python",
   "pygments_lexer": "ipython3",
   "version": "3.9.12"
  }
 },
 "nbformat": 4,
 "nbformat_minor": 5
}
