{
 "cells": [
  {
   "cell_type": "code",
   "execution_count": 1,
   "id": "9df672cb",
   "metadata": {},
   "outputs": [],
   "source": [
    "import numpy as np\n"
   ]
  },
  {
   "cell_type": "code",
   "execution_count": 2,
   "id": "2dba4bff",
   "metadata": {},
   "outputs": [],
   "source": [
    "ch_name=\"AI Production \";\n",
    "str1=\"this is my prectice time\""
   ]
  },
  {
   "cell_type": "code",
   "execution_count": 3,
   "id": "ceaab4bc",
   "metadata": {},
   "outputs": [
    {
     "data": {
      "text/plain": [
       "array('AI Production this is my prectice time', dtype='<U38')"
      ]
     },
     "execution_count": 3,
     "metadata": {},
     "output_type": "execute_result"
    }
   ],
   "source": [
    "np.char.add(ch_name,str1)"
   ]
  },
  {
   "cell_type": "code",
   "execution_count": 4,
   "id": "f53bbe2c",
   "metadata": {},
   "outputs": [
    {
     "data": {
      "text/plain": [
       "array('ai production ', dtype='<U14')"
      ]
     },
     "execution_count": 4,
     "metadata": {},
     "output_type": "execute_result"
    }
   ],
   "source": [
    "np.char.lower(ch_name)"
   ]
  },
  {
   "cell_type": "code",
   "execution_count": 5,
   "id": "46220636",
   "metadata": {},
   "outputs": [
    {
     "data": {
      "text/plain": [
       "array('AI PRODUCTION ', dtype='<U14')"
      ]
     },
     "execution_count": 5,
     "metadata": {},
     "output_type": "execute_result"
    }
   ],
   "source": [
    "np.char.upper(ch_name)"
   ]
  },
  {
   "cell_type": "code",
   "execution_count": 7,
   "id": "7546fe7e",
   "metadata": {},
   "outputs": [
    {
     "data": {
      "text/plain": [
       "array('AI Production AI Production ', dtype='<U28')"
      ]
     },
     "execution_count": 7,
     "metadata": {},
     "output_type": "execute_result"
    }
   ],
   "source": [
    "np.char.multiply(ch_name,2)"
   ]
  },
  {
   "cell_type": "code",
   "execution_count": 12,
   "id": "4985e76a",
   "metadata": {},
   "outputs": [
    {
     "data": {
      "text/plain": [
       "array('###########################################AI Production ###########################################',\n",
       "      dtype='<U100')"
      ]
     },
     "execution_count": 12,
     "metadata": {},
     "output_type": "execute_result"
    }
   ],
   "source": [
    "np.char.center(ch_name,100,fillchar=\"#\")"
   ]
  },
  {
   "cell_type": "code",
   "execution_count": 14,
   "id": "103d9092",
   "metadata": {},
   "outputs": [
    {
     "data": {
      "text/plain": [
       "array('Anurag singh', dtype='<U12')"
      ]
     },
     "execution_count": 14,
     "metadata": {},
     "output_type": "execute_result"
    }
   ],
   "source": [
    "str2=\"anurag singh\"\n",
    "np.char.capitalize(str2)"
   ]
  },
  {
   "cell_type": "code",
   "execution_count": 18,
   "id": "c892eb01",
   "metadata": {},
   "outputs": [
    {
     "data": {
      "text/plain": [
       "array(' Hello World ', dtype='<U13')"
      ]
     },
     "execution_count": 18,
     "metadata": {},
     "output_type": "execute_result"
    }
   ],
   "source": [
    "np.char.title(\" hello world \")"
   ]
  },
  {
   "cell_type": "code",
   "execution_count": 19,
   "id": "16904720",
   "metadata": {},
   "outputs": [
    {
     "data": {
      "text/plain": [
       "array(list(['this', 'is', 'my', 'prectice', 'time']), dtype=object)"
      ]
     },
     "execution_count": 19,
     "metadata": {},
     "output_type": "execute_result"
    }
   ],
   "source": [
    "np.char.split(str1)"
   ]
  },
  {
   "cell_type": "code",
   "execution_count": 20,
   "id": "34f32b67",
   "metadata": {},
   "outputs": [
    {
     "data": {
      "text/plain": [
       "array(list(['hii everone ', 'i am anurag singh ', 'from BCA.']),\n",
       "      dtype=object)"
      ]
     },
     "execution_count": 20,
     "metadata": {},
     "output_type": "execute_result"
    }
   ],
   "source": [
    "np.char.splitlines(\"hii everone \\ni am anurag singh \\nfrom BCA.\")## splite string from \\n ."
   ]
  },
  {
   "cell_type": "code",
   "execution_count": 22,
   "id": "14ff72a8",
   "metadata": {},
   "outputs": [
    {
     "data": {
      "text/plain": [
       "array(['d:m:y', 'd/m/y'], dtype='<U5')"
      ]
     },
     "execution_count": 22,
     "metadata": {},
     "output_type": "execute_result"
    }
   ],
   "source": [
    "srt3=\"dmy\"\n",
    "srt4=\"dmy\"\n",
    "np.char.join([\":\",\"/\"],[srt3,srt4])## string join by colon or backslash."
   ]
  },
  {
   "cell_type": "code",
   "execution_count": 23,
   "id": "46aaf8bf",
   "metadata": {},
   "outputs": [
    {
     "data": {
      "text/plain": [
       "array(True)"
      ]
     },
     "execution_count": 23,
     "metadata": {},
     "output_type": "execute_result"
    }
   ],
   "source": [
    "np.char.equal(srt3,srt4)"
   ]
  },
  {
   "cell_type": "code",
   "execution_count": null,
   "id": "c18bcc26",
   "metadata": {},
   "outputs": [],
   "source": []
  }
 ],
 "metadata": {
  "kernelspec": {
   "display_name": "Python 3 (ipykernel)",
   "language": "python",
   "name": "python3"
  },
  "language_info": {
   "codemirror_mode": {
    "name": "ipython",
    "version": 3
   },
   "file_extension": ".py",
   "mimetype": "text/x-python",
   "name": "python",
   "nbconvert_exporter": "python",
   "pygments_lexer": "ipython3",
   "version": "3.9.12"
  }
 },
 "nbformat": 4,
 "nbformat_minor": 5
}
