{
 "cells": [
  {
   "cell_type": "code",
   "execution_count": 1,
   "id": "0a8ce9d6",
   "metadata": {},
   "outputs": [],
   "source": [
    "import numpy as np\n"
   ]
  },
  {
   "cell_type": "code",
   "execution_count": 2,
   "id": "5ea4851e",
   "metadata": {},
   "outputs": [],
   "source": [
    "ch_name=\"AI Production \";\n",
    "str1=\"this is my prectice time\""
   ]
  },
  {
   "cell_type": "code",
   "execution_count": 3,
   "id": "a8e15794",
   "metadata": {},
   "outputs": [
    {
     "data": {
      "text/plain": [
       "array('AI Production this is my prectice time', dtype='<U38')"
      ]
     },
     "execution_count": 3,
     "metadata": {},
     "output_type": "execute_result"
    }
   ],
   "source": [
    "np.char.add(ch_name,str1)"
   ]
  },
  {
   "cell_type": "code",
   "execution_count": 4,
   "id": "d37d3270",
   "metadata": {},
   "outputs": [
    {
     "data": {
      "text/plain": [
       "array('ai production ', dtype='<U14')"
      ]
     },
     "execution_count": 4,
     "metadata": {},
     "output_type": "execute_result"
    }
   ],
   "source": [
    "np.char.lower(ch_name)"
   ]
  },
  {
   "cell_type": "code",
   "execution_count": 5,
   "id": "15b8f120",
   "metadata": {},
   "outputs": [
    {
     "data": {
      "text/plain": [
       "array('AI PRODUCTION ', dtype='<U14')"
      ]
     },
     "execution_count": 5,
     "metadata": {},
     "output_type": "execute_result"
    }
   ],
   "source": [
    "np.char.upper(ch_name)"
   ]
  },
  {
   "cell_type": "code",
   "execution_count": 7,
   "id": "b8b8ccb1",
   "metadata": {},
   "outputs": [
    {
     "data": {
      "text/plain": [
       "array('AI Production AI Production ', dtype='<U28')"
      ]
     },
     "execution_count": 7,
     "metadata": {},
     "output_type": "execute_result"
    }
   ],
   "source": [
    "np.char.multiply(ch_name,2)"
   ]
  },
  {
   "cell_type": "code",
   "execution_count": 12,
   "id": "0974960b",
   "metadata": {},
   "outputs": [
    {
     "data": {
      "text/plain": [
       "array('###########################################AI Production ###########################################',\n",
       "      dtype='<U100')"
      ]
     },
     "execution_count": 12,
     "metadata": {},
     "output_type": "execute_result"
    }
   ],
   "source": [
    "np.char.center(ch_name,100,fillchar=\"#\")"
   ]
  },
  {
   "cell_type": "code",
   "execution_count": 14,
   "id": "0c4a968f",
   "metadata": {},
   "outputs": [
    {
     "data": {
      "text/plain": [
       "array('Anurag singh', dtype='<U12')"
      ]
     },
     "execution_count": 14,
     "metadata": {},
     "output_type": "execute_result"
    }
   ],
   "source": [
    "str2=\"anurag singh\"\n",
    "np.char.capitalize(str2)"
   ]
  },
  {
   "cell_type": "code",
   "execution_count": 18,
   "id": "dd3f5ce8",
   "metadata": {},
   "outputs": [
    {
     "data": {
      "text/plain": [
       "array(' Hello World ', dtype='<U13')"
      ]
     },
     "execution_count": 18,
     "metadata": {},
     "output_type": "execute_result"
    }
   ],
   "source": [
    "np.char.title(\" hello world \")"
   ]
  },
  {
   "cell_type": "code",
   "execution_count": 19,
   "id": "0f193997",
   "metadata": {},
   "outputs": [
    {
     "data": {
      "text/plain": [
       "array(list(['this', 'is', 'my', 'prectice', 'time']), dtype=object)"
      ]
     },
     "execution_count": 19,
     "metadata": {},
     "output_type": "execute_result"
    }
   ],
   "source": [
    "np.char.split(str1)"
   ]
  },
  {
   "cell_type": "code",
   "execution_count": 20,
   "id": "7faca2f5",
   "metadata": {},
   "outputs": [
    {
     "data": {
      "text/plain": [
       "array(list(['hii everone ', 'i am anurag singh ', 'from BCA.']),\n",
       "      dtype=object)"
      ]
     },
     "execution_count": 20,
     "metadata": {},
     "output_type": "execute_result"
    }
   ],
   "source": [
    "np.char.splitlines(\"hii everone \\ni am anurag singh \\nfrom BCA.\")## splite string from \\n ."
   ]
  },
  {
   "cell_type": "code",
   "execution_count": 22,
   "id": "0b77c1a0",
   "metadata": {},
   "outputs": [
    {
     "data": {
      "text/plain": [
       "array(['d:m:y', 'd/m/y'], dtype='<U5')"
      ]
     },
     "execution_count": 22,
     "metadata": {},
     "output_type": "execute_result"
    }
   ],
   "source": [
    "srt3=\"dmy\"\n",
    "srt4=\"dmy\"\n",
    "np.char.join([\":\",\"/\"],[srt3,srt4])## string join by colon or backslash."
   ]
  },
  {
   "cell_type": "code",
   "execution_count": 23,
   "id": "63f08b9d",
   "metadata": {},
   "outputs": [
    {
     "data": {
      "text/plain": [
       "array(True)"
      ]
     },
     "execution_count": 23,
     "metadata": {},
     "output_type": "execute_result"
    }
   ],
   "source": [
    "np.char.equal(srt3,srt4)"
   ]
  },
  {
   "cell_type": "code",
   "execution_count": 24,
   "id": "2c138dfa",
   "metadata": {},
   "outputs": [
    {
     "data": {
      "text/plain": [
       "array(8)"
      ]
     },
     "execution_count": 24,
     "metadata": {},
     "output_type": "execute_result"
    }
   ],
   "source": [
    "np.char.find(str1,\"my\")"
   ]
  },
  {
   "cell_type": "code",
   "execution_count": 26,
   "id": "b62918cc",
   "metadata": {},
   "outputs": [
    {
     "data": {
      "text/plain": [
       "array(False)"
      ]
     },
     "execution_count": 26,
     "metadata": {},
     "output_type": "execute_result"
    }
   ],
   "source": [
    "np.char.isdigit(ch_name)"
   ]
  },
  {
   "cell_type": "code",
   "execution_count": 27,
   "id": "1a5ef70d",
   "metadata": {},
   "outputs": [
    {
     "data": {
      "text/plain": [
       "array(False)"
      ]
     },
     "execution_count": 27,
     "metadata": {},
     "output_type": "execute_result"
    }
   ],
   "source": [
    "np.char.isalpha(ch_name)"
   ]
  },
  {
   "cell_type": "code",
   "execution_count": 29,
   "id": "98c9bcf7",
   "metadata": {},
   "outputs": [
    {
     "data": {
      "text/plain": [
       "array(False)"
      ]
     },
     "execution_count": 29,
     "metadata": {},
     "output_type": "execute_result"
    }
   ],
   "source": [
    "np.char.isnumeric(ch_name)"
   ]
  },
  {
   "cell_type": "code",
   "execution_count": 31,
   "id": "0bdac206",
   "metadata": {},
   "outputs": [
    {
     "data": {
      "text/plain": [
       "array(False)"
      ]
     },
     "execution_count": 31,
     "metadata": {},
     "output_type": "execute_result"
    }
   ],
   "source": [
    "np.char.isupper(ch_name)"
   ]
  },
  {
   "cell_type": "code",
   "execution_count": 32,
   "id": "8f46e213",
   "metadata": {},
   "outputs": [
    {
     "data": {
      "text/plain": [
       "array(False)"
      ]
     },
     "execution_count": 32,
     "metadata": {},
     "output_type": "execute_result"
    }
   ],
   "source": [
    "np.char.islower(ch_name)"
   ]
  },
  {
   "cell_type": "code",
   "execution_count": 34,
   "id": "2dded2f5",
   "metadata": {},
   "outputs": [
    {
     "data": {
      "text/plain": [
       "array(False)"
      ]
     },
     "execution_count": 34,
     "metadata": {},
     "output_type": "execute_result"
    }
   ],
   "source": [
    "np.char.isdecimal(ch_name)"
   ]
  },
  {
   "cell_type": "code",
   "execution_count": null,
   "id": "ca233f84",
   "metadata": {},
   "outputs": [],
   "source": []
  }
 ],
 "metadata": {
  "kernelspec": {
   "display_name": "Python 3 (ipykernel)",
   "language": "python",
   "name": "python3"
  },
  "language_info": {
   "codemirror_mode": {
    "name": "ipython",
    "version": 3
   },
   "file_extension": ".py",
   "mimetype": "text/x-python",
   "name": "python",
   "nbconvert_exporter": "python",
   "pygments_lexer": "ipython3",
   "version": "3.9.12"
  }
 },
 "nbformat": 4,
 "nbformat_minor": 5
}
