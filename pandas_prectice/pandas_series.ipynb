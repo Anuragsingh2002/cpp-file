{
 "cells": [
  {
   "cell_type": "code",
   "execution_count": 2,
   "id": "09cea31c",
   "metadata": {},
   "outputs": [],
   "source": [
    "import pandas as pd\n"
   ]
  },
  {
   "cell_type": "code",
   "execution_count": 3,
   "id": "32c5f49a",
   "metadata": {},
   "outputs": [
    {
     "data": {
      "text/plain": [
       "'1.4.2'"
      ]
     },
     "execution_count": 3,
     "metadata": {},
     "output_type": "execute_result"
    }
   ],
   "source": [
    "pd.__version__"
   ]
  },
  {
   "cell_type": "code",
   "execution_count": 7,
   "id": "8b77a3ba",
   "metadata": {},
   "outputs": [
    {
     "name": "stdout",
     "output_type": "stream",
     "text": [
      "0              1\n",
      "1              2\n",
      "2              3\n",
      "3              4\n",
      "4    hello india\n",
      "dtype: object\n"
     ]
    }
   ],
   "source": [
    "list_1=[1,2,3,4,\"hello india\"]\n",
    "list_s=pd.Series(list_1)\n",
    "print(list_s)"
   ]
  },
  {
   "cell_type": "code",
   "execution_count": 9,
   "id": "67ac4845",
   "metadata": {},
   "outputs": [
    {
     "name": "stdout",
     "output_type": "stream",
     "text": [
      "0         1\n",
      "1         2\n",
      "2         3\n",
      "3         4\n",
      "4    anurag\n",
      "dtype: object\n"
     ]
    }
   ],
   "source": [
    "list_s1=pd.Series([1,2,3,4,\"anurag\"])\n",
    "print(list_s1)\n"
   ]
  },
  {
   "cell_type": "code",
   "execution_count": 10,
   "id": "6d3f4cf2",
   "metadata": {},
   "outputs": [
    {
     "data": {
      "text/plain": [
       "type[0         1\n",
       "1         2\n",
       "2         3\n",
       "3         4\n",
       "4    anurag\n",
       "dtype: object]"
      ]
     },
     "execution_count": 10,
     "metadata": {},
     "output_type": "execute_result"
    }
   ],
   "source": [
    "type[list_s1]"
   ]
  },
  {
   "cell_type": "code",
   "execution_count": 11,
   "id": "87549507",
   "metadata": {},
   "outputs": [
    {
     "name": "stdout",
     "output_type": "stream",
     "text": [
      "Series([], dtype: float64)\n"
     ]
    },
    {
     "name": "stderr",
     "output_type": "stream",
     "text": [
      "C:\\Users\\User\\AppData\\Local\\Temp\\ipykernel_15236\\2823983443.py:1: FutureWarning: The default dtype for empty Series will be 'object' instead of 'float64' in a future version. Specify a dtype explicitly to silence this warning.\n",
      "  empty_s=pd.Series([])\n"
     ]
    }
   ],
   "source": [
    "empty_s=pd.Series([])\n",
    "print(empty_s)"
   ]
  },
  {
   "cell_type": "code",
   "execution_count": 13,
   "id": "b8fea175",
   "metadata": {},
   "outputs": [
    {
     "name": "stdout",
     "output_type": "stream",
     "text": [
      "a         1\n",
      "b         2\n",
      "c         3\n",
      "d         4\n",
      "e    anurag\n",
      "dtype: object\n"
     ]
    }
   ],
   "source": [
    "list_s2=pd.Series([1,2,3,4,\"anurag\"],index=['a','b','c','d','e'])\n",
    "print(list_s2)\n"
   ]
  },
  {
   "cell_type": "code",
   "execution_count": 17,
   "id": "67265788",
   "metadata": {},
   "outputs": [
    {
     "name": "stdout",
     "output_type": "stream",
     "text": [
      "a    1.0\n",
      "b    2.0\n",
      "c    3.0\n",
      "d    4.0\n",
      "dtype: float64\n"
     ]
    }
   ],
   "source": [
    "list_s3=pd.Series([1,2,3,4],index=['a','b','c','d'],dtype=float)\n",
    "print(list_s3)\n"
   ]
  },
  {
   "cell_type": "markdown",
   "id": "2335f2d5",
   "metadata": {},
   "source": [
    "# scalar value mean single value"
   ]
  },
  {
   "cell_type": "code",
   "execution_count": 18,
   "id": "21705f16",
   "metadata": {},
   "outputs": [
    {
     "name": "stdout",
     "output_type": "stream",
     "text": [
      "0    1.2\n",
      "dtype: float64\n"
     ]
    }
   ],
   "source": [
    "scalar1=pd.Series(1.2)\n",
    "print(scalar1)"
   ]
  },
  {
   "cell_type": "code",
   "execution_count": 22,
   "id": "acdc8f84",
   "metadata": {},
   "outputs": [
    {
     "name": "stdout",
     "output_type": "stream",
     "text": [
      "1    1\n",
      "2    1\n",
      "3    1\n",
      "dtype: int32\n"
     ]
    }
   ],
   "source": [
    "scalar2=pd.Series(1.2,index=[1,2,3],dtype=int)\n",
    "print(scalar2)"
   ]
  },
  {
   "cell_type": "markdown",
   "id": "b4f17d40",
   "metadata": {},
   "source": [
    "# create using dictionry"
   ]
  },
  {
   "cell_type": "code",
   "execution_count": 23,
   "id": "d1a00504",
   "metadata": {},
   "outputs": [
    {
     "name": "stdout",
     "output_type": "stream",
     "text": [
      "a    1\n",
      "b    2\n",
      "c    3\n",
      "dtype: int64\n"
     ]
    }
   ],
   "source": [
    "dic_s=pd.Series({'a':1,'b':2,'c':3})\n",
    "print(dic_s)"
   ]
  },
  {
   "cell_type": "markdown",
   "id": "28ae601a",
   "metadata": {},
   "source": [
    "# ADDINIG two series "
   ]
  },
  {
   "cell_type": "code",
   "execution_count": 26,
   "id": "cd714a95",
   "metadata": {},
   "outputs": [
    {
     "name": "stdout",
     "output_type": "stream",
     "text": [
      "0    1\n",
      "1    2\n",
      "2    3\n",
      "3    4\n",
      "dtype: int64\n"
     ]
    }
   ],
   "source": [
    "s1=pd.Series([1,2,3,4])\n",
    "print(s1)"
   ]
  },
  {
   "cell_type": "code",
   "execution_count": 27,
   "id": "29b49a0e",
   "metadata": {},
   "outputs": [
    {
     "name": "stdout",
     "output_type": "stream",
     "text": [
      "0    1\n",
      "1    2\n",
      "2    3\n",
      "3    4\n",
      "dtype: int64\n"
     ]
    }
   ],
   "source": [
    "s2=pd.Series([1,2,3,4])\n",
    "print(s2)"
   ]
  },
  {
   "cell_type": "code",
   "execution_count": 28,
   "id": "dcf0bf6c",
   "metadata": {},
   "outputs": [
    {
     "data": {
      "text/plain": [
       "0    2\n",
       "1    4\n",
       "2    6\n",
       "3    8\n",
       "dtype: int64"
      ]
     },
     "execution_count": 28,
     "metadata": {},
     "output_type": "execute_result"
    }
   ],
   "source": [
    "s1+s2"
   ]
  },
  {
   "cell_type": "code",
   "execution_count": 29,
   "id": "d85facbb",
   "metadata": {},
   "outputs": [
    {
     "data": {
      "text/plain": [
       "0    NaN\n",
       "1    3.0\n",
       "2    4.0\n",
       "3    5.0\n",
       "dtype: float64"
      ]
     },
     "execution_count": 29,
     "metadata": {},
     "output_type": "execute_result"
    }
   ],
   "source": [
    "s1+scalar2"
   ]
  },
  {
   "cell_type": "markdown",
   "id": "8286ec20",
   "metadata": {},
   "source": [
    "# splite"
   ]
  },
  {
   "cell_type": "code",
   "execution_count": 30,
   "id": "271de260",
   "metadata": {},
   "outputs": [
    {
     "data": {
      "text/plain": [
       "2"
      ]
     },
     "execution_count": 30,
     "metadata": {},
     "output_type": "execute_result"
    }
   ],
   "source": [
    "s1[1]"
   ]
  },
  {
   "cell_type": "code",
   "execution_count": 32,
   "id": "b7bee3fc",
   "metadata": {},
   "outputs": [
    {
     "data": {
      "text/plain": [
       "0    1\n",
       "1    2\n",
       "dtype: int64"
      ]
     },
     "execution_count": 32,
     "metadata": {},
     "output_type": "execute_result"
    }
   ],
   "source": [
    "s1[0:2]"
   ]
  },
  {
   "cell_type": "code",
   "execution_count": 33,
   "id": "161c39ec",
   "metadata": {},
   "outputs": [
    {
     "data": {
      "text/plain": [
       "4"
      ]
     },
     "execution_count": 33,
     "metadata": {},
     "output_type": "execute_result"
    }
   ],
   "source": [
    "max(s1)"
   ]
  },
  {
   "cell_type": "code",
   "execution_count": 34,
   "id": "b57c7746",
   "metadata": {},
   "outputs": [
    {
     "data": {
      "text/plain": [
       "1"
      ]
     },
     "execution_count": 34,
     "metadata": {},
     "output_type": "execute_result"
    }
   ],
   "source": [
    "min(s1)"
   ]
  },
  {
   "cell_type": "code",
   "execution_count": 35,
   "id": "56325306",
   "metadata": {},
   "outputs": [
    {
     "data": {
      "text/plain": [
       "0    1\n",
       "1    2\n",
       "dtype: int64"
      ]
     },
     "execution_count": 35,
     "metadata": {},
     "output_type": "execute_result"
    }
   ],
   "source": [
    "s1[s1<3]"
   ]
  },
  {
   "cell_type": "code",
   "execution_count": 36,
   "id": "bade24a0",
   "metadata": {},
   "outputs": [
    {
     "data": {
      "text/plain": [
       "0    2\n",
       "1    4\n",
       "2    6\n",
       "3    8\n",
       "dtype: int64"
      ]
     },
     "execution_count": 36,
     "metadata": {},
     "output_type": "execute_result"
    }
   ],
   "source": [
    "s1.add(s2)##using add method"
   ]
  },
  {
   "cell_type": "code",
   "execution_count": 37,
   "id": "0727a870",
   "metadata": {},
   "outputs": [
    {
     "data": {
      "text/plain": [
       "0    1\n",
       "2    3\n",
       "3    4\n",
       "dtype: int64"
      ]
     },
     "execution_count": 37,
     "metadata": {},
     "output_type": "execute_result"
    }
   ],
   "source": [
    "s1.drop(1)## drop using index"
   ]
  }
 ],
 "metadata": {
  "kernelspec": {
   "display_name": "Python 3 (ipykernel)",
   "language": "python",
   "name": "python3"
  },
  "language_info": {
   "codemirror_mode": {
    "name": "ipython",
    "version": 3
   },
   "file_extension": ".py",
   "mimetype": "text/x-python",
   "name": "python",
   "nbconvert_exporter": "python",
   "pygments_lexer": "ipython3",
   "version": "3.9.12"
  }
 },
 "nbformat": 4,
 "nbformat_minor": 5
}
